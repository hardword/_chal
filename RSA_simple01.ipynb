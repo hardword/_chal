{
  "nbformat": 4,
  "nbformat_minor": 0,
  "metadata": {
    "colab": {
      "name": "RSA_simple01.ipynb",
      "provenance": [],
      "collapsed_sections": [],
      "include_colab_link": true
    },
    "kernelspec": {
      "name": "python2",
      "display_name": "Python 2"
    }
  },
  "cells": [
    {
      "cell_type": "markdown",
      "metadata": {
        "id": "view-in-github",
        "colab_type": "text"
      },
      "source": [
        "<a href=\"https://colab.research.google.com/github/hardword/_chal/blob/master/RSA_simple01.ipynb\" target=\"_parent\"><img src=\"https://colab.research.google.com/assets/colab-badge.svg\" alt=\"Open In Colab\"/></a>"
      ]
    },
    {
      "cell_type": "markdown",
      "metadata": {
        "id": "GlSiAIHM5UaN",
        "colab_type": "text"
      },
      "source": [
        "## RSAaaay (From TAMUctf 2019)\n",
        "\n",
        "Hey, you're a hacker, right? I think I am too, look at what I made!\n",
        "\n",
        "---\n",
        "```\n",
        "(2531257, 43)\n",
        "\n",
        "My super secret message: \n",
        "906851 991083 1780304 2380434 438490 356019 921472 822283 817856 556932 2102538 2501908 2211404 991083 1562919 38268\n",
        "```\n",
        "---\n",
        "\n",
        "Problem is, I don't remember how to decrypt it... could you help me out?\n",
        "\n",
        "*Difficulty: easy*\n",
        "\n"
      ]
    },
    {
      "cell_type": "markdown",
      "metadata": {
        "id": "imRBoEE408F-",
        "colab_type": "text"
      },
      "source": [
        "Finding p,q: http://factordb.com/index.php?query=2531257 (Change query param with your N)\n",
        "\n",
        "Reference: https://github.com/p4-team/ctf/tree/master/2017-02-25-bkp/rsa_buffet"
      ]
    },
    {
      "cell_type": "code",
      "metadata": {
        "id": "T3Zpi9mpJj8H",
        "colab_type": "code",
        "colab": {}
      },
      "source": [
        "# From https://gist.github.com/JonCooperWorks/5314103\n",
        "\n",
        "def multiplicative_inverse(e, phi):\n",
        "    d = 0\n",
        "    x1 = 0\n",
        "    x2 = 1\n",
        "    y1 = 1\n",
        "    temp_phi = phi\n",
        "\n",
        "    while e > 0:\n",
        "        temp1 = temp_phi/e\n",
        "        temp2 = temp_phi - temp1 * e\n",
        "        temp_phi = e\n",
        "        e = temp2\n",
        "\n",
        "        x = x2- temp1* x1\n",
        "        y = d - temp1 * y1\n",
        "        \n",
        "        x2 = x1\n",
        "        x1 = x\n",
        "        d = y1\n",
        "        y1 = y\n",
        "    \n",
        "    if temp_phi == 1:\n",
        "        return d + phi\n",
        " "
      ],
      "execution_count": 0,
      "outputs": []
    },
    {
      "cell_type": "code",
      "metadata": {
        "id": "Ktq4TYOZJpwu",
        "colab_type": "code",
        "colab": {}
      },
      "source": [
        "p=509\n",
        "q=4973\n",
        "e=43\n",
        "phi=(p-1)*(q-1)\n",
        "n=p*q\n",
        "d=multiplicative_inverse(e, phi)\n"
      ],
      "execution_count": 0,
      "outputs": []
    },
    {
      "cell_type": "code",
      "metadata": {
        "id": "sfDZWjXTJtDz",
        "colab_type": "code",
        "colab": {}
      },
      "source": [
        "enc='906851 991083 1780304 2380434 438490 356019 921472 822283 817856 556932 2102538 2501908 2211404 991083 1562919 38268'\n",
        "enc_list=enc.split()\n",
        "dec=[]"
      ],
      "execution_count": 0,
      "outputs": []
    },
    {
      "cell_type": "code",
      "metadata": {
        "id": "jTfOjnR-Jwrp",
        "colab_type": "code",
        "colab": {}
      },
      "source": [
        "for _ in enc_list:\n",
        "\tmsg = int(_)**d % n\n",
        "\tdec.append(msg)\n",
        " "
      ],
      "execution_count": 0,
      "outputs": []
    },
    {
      "cell_type": "code",
      "metadata": {
        "id": "zW6gGGQMOInt",
        "colab_type": "code",
        "outputId": "29fc14f3-fbe7-468b-9667-7b784b618724",
        "colab": {
          "base_uri": "https://localhost:8080/",
          "height": 34
        }
      },
      "source": [
        "print dec"
      ],
      "execution_count": 0,
      "outputs": [
        {
          "output_type": "stream",
          "text": [
            "[103L, 105103L, 101109L, 12383L, 97118L, 97103L, 10195L, 83105L, 12095L, 70108L, 121105L, 110103L, 9584L, 105103L, 101114L, 115125L]\n"
          ],
          "name": "stdout"
        }
      ]
    },
    {
      "cell_type": "code",
      "metadata": {
        "id": "S4SgwGUH7TTJ",
        "colab_type": "code",
        "outputId": "215442df-d6e7-4451-c703-b8cb3dff5543",
        "colab": {
          "base_uri": "https://localhost:8080/",
          "height": 34
        }
      },
      "source": [
        "dec_new=[103, 105, 103, 101, 109, 123, 83, 97, 118, 97, 103, 101, 95, 83, 105, 120, 95, 70, 108, 121, 105, 110, 103, 95, 84, 105, 103, 101, 114, 115, 125]\n",
        "\n",
        "dec_str=''\n",
        "\n",
        "for _ in dec_new:\n",
        "  dec_str += chr(_)\n",
        "  \n",
        "print dec_str"
      ],
      "execution_count": 0,
      "outputs": [
        {
          "output_type": "stream",
          "text": [
            "gigem{Savage_Six_Flying_Tigers}\n"
          ],
          "name": "stdout"
        }
      ]
    },
    {
      "cell_type": "markdown",
      "metadata": {
        "id": "_d-E9Viu2mAY",
        "colab_type": "text"
      },
      "source": [
        "http://www.oxfordmathcenter.com/drupal7/node/206\n"
      ]
    },
    {
      "cell_type": "code",
      "metadata": {
        "id": "wRLBGdNJVpD-",
        "colab_type": "code",
        "colab": {}
      },
      "source": [
        "def multiplicative_inverse(e, phi):\n",
        "    d = 0\n",
        "    x1 = 0\n",
        "    x2 = 1\n",
        "    y1 = 1\n",
        "    temp_phi = phi\n",
        "\n",
        "    while e > 0:\n",
        "        temp1 = temp_phi/e\n",
        "        temp2 = temp_phi - temp1 * e\n",
        "        temp_phi = e\n",
        "        e = temp2\n",
        "\n",
        "        x = x2- temp1* x1\n",
        "        y = d - temp1 * y1\n",
        "        \n",
        "        x2 = x1\n",
        "        x1 = x\n",
        "        d = y1\n",
        "        y1 = y\n",
        "    \n",
        "    if temp_phi == 1:\n",
        "        return d + phi"
      ],
      "execution_count": 0,
      "outputs": []
    },
    {
      "cell_type": "code",
      "metadata": {
        "id": "nasUAOZXVgpZ",
        "colab_type": "code",
        "outputId": "08f249d5-3e9e-4355-cb24-57065cbd44ba",
        "colab": {
          "base_uri": "https://localhost:8080/",
          "height": 34
        }
      },
      "source": [
        "p=45000107\n",
        "q=48000089\n",
        "e=17\n",
        "phi=(p-1)*(q-1)\n",
        "n=p*q\n",
        "\n",
        "print multiplicative_inverse(e, phi) - phi\n"
      ],
      "execution_count": 0,
      "outputs": [
        {
          "output_type": "stream",
          "text": [
            "635296778826273\n"
          ],
          "name": "stdout"
        }
      ]
    }
  ]
}